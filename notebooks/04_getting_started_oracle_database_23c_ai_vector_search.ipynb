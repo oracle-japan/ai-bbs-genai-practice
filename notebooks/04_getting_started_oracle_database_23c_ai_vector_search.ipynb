{
 "cells": [
  {
   "cell_type": "markdown",
   "metadata": {},
   "source": [
    "## Oracle Database 23c AI Vector Search"
   ]
  },
  {
   "cell_type": "code",
   "execution_count": null,
   "metadata": {},
   "outputs": [],
   "source": [
    "from os import getenv\n",
    "from dotenv import load_dotenv\n",
    "from langchain_core.prompts import PromptTemplate\n",
    "from langchain_community.llms.oci_generative_ai import OCIGenAI\n",
    "from langchain_community.embeddings.oci_generative_ai import OCIGenAIEmbeddings\n",
    "from langchain.schema.output_parser import StrOutputParser\n",
    "\n",
    "import oracledb\n",
    "\n",
    "load_dotenv()\n",
    "\n",
    "COMPARTMENT_ID = getenv(\"COMPARTMENT_ID\")\n",
    "SERVICE_ENDPOINT = getenv(\"GEN_AI_INFERENCE_ENDPOINT\") # https://inference.generativeai.us-chicago-1.oci.oraclecloud.com\n",
    "UN = getenv('DB_USERNAME')\n",
    "PW = getenv('DB_PASSWORD')\n",
    "DSN = getenv('DB_DSN')\n",
    "TNS_ADMIN = getenv('TNS_ADMIN')"
   ]
  },
  {
   "cell_type": "markdown",
   "metadata": {},
   "source": [
    "### Using Oracle Generative AI Service"
   ]
  },
  {
   "cell_type": "code",
   "execution_count": null,
   "metadata": {},
   "outputs": [],
   "source": [
    "# Create demo table\n",
    "with oracledb.connect(user=UN, password=PW, dsn=DSN, config_dir=TNS_ADMIN) as connection:\n",
    "    with connection.cursor() as cursor:\n",
    "        sql = \"\"\"\n",
    "            CREATE TABLE IF NOT EXISTS OCI_SERVICES(\n",
    "                id number primary key,\n",
    "                title varchar2(256),\n",
    "                category varchar2(256),\n",
    "                url varchar2(256),\n",
    "                text varchar2(1024),\n",
    "                text_v vector(1024, float32)\n",
    "            )\n",
    "        \"\"\"\n",
    "        cursor.execute(sql)"
   ]
  },
  {
   "cell_type": "code",
   "execution_count": null,
   "metadata": {},
   "outputs": [],
   "source": [
    "import pandas as pd"
   ]
  },
  {
   "cell_type": "code",
   "execution_count": null,
   "metadata": {},
   "outputs": [],
   "source": [
    "df = pd.read_json(path_or_buf=\"../data/oci-services.jsonl\", lines=True)\n",
    "df.head()"
   ]
  },
  {
   "cell_type": "code",
   "execution_count": null,
   "metadata": {},
   "outputs": [],
   "source": [
    "embeddings = OCIGenAIEmbeddings(\n",
    "    model_id=\"cohere.embed-english-v3.0\",\n",
    "    service_endpoint=SERVICE_ENDPOINT,\n",
    "    compartment_id=COMPARTMENT_ID,\n",
    "    auth_type=\"INSTANCE_PRINCIPAL\"\n",
    ")\n",
    "\n",
    "response = embeddings.embed_query(text=\"This is a query in English.\")\n",
    "print(response)"
   ]
  },
  {
   "cell_type": "code",
   "execution_count": null,
   "metadata": {},
   "outputs": [],
   "source": [
    "sql_template = \"\"\"\n",
    "    INSERT INTO OCI_SERVICES(\n",
    "        id,\n",
    "        title,\n",
    "        category,\n",
    "        url,\n",
    "        text,\n",
    "        text_v\n",
    "    ) VALUES (\n",
    "        :1,\n",
    "        :2,\n",
    "        :3,\n",
    "        :4,\n",
    "        :5,\n",
    "        :6\n",
    "    )\n",
    "\"\"\"\n",
    "with oracledb.connect(user=UN, password=PW, dsn=DSN, config_dir=TNS_ADMIN) as connection:\n",
    "    with connection.cursor() as cursor:\n",
    "        cursor.setinputsizes(None, oracledb.DB_TYPE_VECTOR)\n",
    "        for idx, row in df.iterrows():\n",
    "            text_v = embeddings.embed_query(row['text'])\n",
    "            cursor.execute(\n",
    "                sql_template,\n",
    "                [\n",
    "                    row['id'],\n",
    "                    row['title'],\n",
    "                    row['category'],\n",
    "                    row['url'],\n",
    "                    row['text'],\n",
    "                    f\"{text_v}\"\n",
    "                ]\n",
    "            )\n",
    "    connection.commit()"
   ]
  },
  {
   "cell_type": "code",
   "execution_count": null,
   "metadata": {},
   "outputs": [],
   "source": [
    "with oracledb.connect(user=UN, password=PW, dsn=DSN, config_dir=TNS_ADMIN) as connection:\n",
    "    with connection.cursor() as cursor:\n",
    "        cursor.execute(\"SELECT * FROM OCI_SERVICES\")\n",
    "        for row in cursor:\n",
    "            print(row)"
   ]
  },
  {
   "cell_type": "code",
   "execution_count": null,
   "metadata": {},
   "outputs": [],
   "source": [
    "query = \"what is region?\"\n",
    "query_v = embeddings.embed_query(text=query)\n",
    "\n",
    "context = list()\n",
    "\n",
    "with oracledb.connect(user=UN, password=PW, dsn=DSN, config_dir=TNS_ADMIN) as connection:\n",
    "    with connection.cursor() as cursor:\n",
    "        cursor.execute(\"\"\"\n",
    "            SELECT\n",
    "                ID,\n",
    "                TITLE,\n",
    "                CATEGORY,\n",
    "                URL,\n",
    "                TEXT\n",
    "            FROM\n",
    "                OCI_SERVICES\n",
    "            ORDER BY VECTOR_DISTANCE(TEXT_V, :query)\n",
    "            FETCH FIRST 1 ROWS ONLY\n",
    "        \"\"\", query=f\"{query_v}\")\n",
    "        columns = [col[0] for col in cursor.description]\n",
    "        cursor.rowfactory = lambda *args: dict(zip(columns, args))\n",
    "        for row in cursor:\n",
    "            print(row)\n",
    "            context.append(row['TEXT'])\n",
    "print(context)"
   ]
  },
  {
   "cell_type": "code",
   "execution_count": null,
   "metadata": {},
   "outputs": [],
   "source": [
    "query = \"what is region?\"\n",
    "query_v = embeddings.embed_query(text=query)\n",
    "\n",
    "context = list()\n",
    "\n",
    "with oracledb.connect(user=UN, password=PW, dsn=DSN, config_dir=TNS_ADMIN) as connection:\n",
    "    with connection.cursor() as cursor:\n",
    "        cursor.execute(\"\"\"\n",
    "            SELECT\n",
    "                ID,\n",
    "                TITLE,\n",
    "                CATEGORY,\n",
    "                URL,\n",
    "                TEXT\n",
    "            FROM\n",
    "                OCI_SERVICES\n",
    "            ORDER BY VECTOR_DISTANCE(TEXT_V, :query)\n",
    "            FETCH FIRST 1 ROWS ONLY\n",
    "        \"\"\", query=f\"{query_v}\")\n",
    "        columns = [col[0] for col in cursor.description]\n",
    "        cursor.rowfactory = lambda *args: dict(zip(columns, args))\n",
    "        for row in cursor:\n",
    "            context.append(row['TEXT'])\n",
    "        template = \"\"\"Answer the question based only on the following context:\n",
    "        {context}\n",
    "\n",
    "        Question: {query}\n",
    "        \"\"\"\n",
    "        prompt = PromptTemplate(\n",
    "            template=template,\n",
    "            input_variables=[\"context\", \"query\"]\n",
    "        )\n",
    "        llm = OCIGenAI(\n",
    "            auth_type=\"INSTANCE_PRINCIPAL\",\n",
    "            service_endpoint=SERVICE_ENDPOINT,\n",
    "            model_id=\"cohere.command\",\n",
    "            compartment_id=COMPARTMENT_ID,\n",
    "            model_kwargs={\n",
    "                'max_tokens': 500\n",
    "            }\n",
    "        )\n",
    "        chain = prompt | llm | StrOutputParser()\n",
    "        output = chain.invoke({\"context\": context[0], \"query\": query})\n",
    "        print(output)"
   ]
  }
 ],
 "metadata": {
  "kernelspec": {
   "display_name": ".venv",
   "language": "python",
   "name": "python3"
  },
  "language_info": {
   "codemirror_mode": {
    "name": "ipython",
    "version": 3
   },
   "file_extension": ".py",
   "mimetype": "text/x-python",
   "name": "python",
   "nbconvert_exporter": "python",
   "pygments_lexer": "ipython3",
   "version": "3.11.5"
  }
 },
 "nbformat": 4,
 "nbformat_minor": 2
}
