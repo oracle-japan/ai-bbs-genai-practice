{
 "cells": [
  {
   "cell_type": "markdown",
   "metadata": {},
   "source": [
    "## Setup"
   ]
  },
  {
   "cell_type": "code",
   "execution_count": null,
   "metadata": {},
   "outputs": [],
   "source": [
    "import requests\n",
    "from os import getenv\n",
    "import base64\n",
    "from dotenv import load_dotenv"
   ]
  },
  {
   "cell_type": "code",
   "execution_count": null,
   "metadata": {},
   "outputs": [],
   "source": [
    "load_dotenv()\n",
    "IDENTITY_DOMAINS_HOST = getenv('IDENTITY_DOMAINS_HOST')\n",
    "CLIENT_ID = getenv('CLIENT_ID')\n",
    "CLIENT_SECRET = getenv('CLIENT_SECRET')\n",
    "USERNAME = getenv('USERNAME')\n",
    "PASSWORD = getenv('PASSWORD')\n",
    "AGENT_ID = getenv('GEN_AI_AGENTS_ID')\n",
    "API_ENDPOINT = getenv('GEN_AI_AGENTS_ENDPOINT')"
   ]
  },
  {
   "cell_type": "code",
   "execution_count": null,
   "metadata": {},
   "outputs": [],
   "source": [
    "#  Obtain an access token using resource owner password credentials grant\n",
    "well_known_response = requests.get(\n",
    "    url=IDENTITY_DOMAINS_HOST + '/.well-known/openid-configuration'\n",
    ")\n",
    "\n",
    "if not well_known_response.status_code == 200:\n",
    "    raise Exception('Failed to obtain openid connect configuration')\n",
    "\n",
    "token_endpoint = well_known_response.json().get('token_endpoint')\n",
    "headers = {\n",
    "    'Authorization': 'Basic ' + base64.b64encode(f'{CLIENT_ID}:{CLIENT_SECRET}'.encode()).decode(),\n",
    "    'Content-Type': 'application/x-www-form-urlencoded; charset=UTF-8'\n",
    "}\n",
    "body = f'grant_type=client_credentials&scope={API_ENDPOINT}/genaiagent'\n",
    "\n",
    "token_endpoint_response = requests.post(\n",
    "    url=token_endpoint,\n",
    "    headers=headers,\n",
    "    data=body,\n",
    "    verify=True\n",
    ")\n",
    "\n",
    "if not token_endpoint_response.status_code == 200:\n",
    "    raise Exception('Failed to obtain access token')\n",
    "\n",
    "access_token = token_endpoint_response.json().get('access_token')\n"
   ]
  },
  {
   "cell_type": "code",
   "execution_count": null,
   "metadata": {},
   "outputs": [],
   "source": [
    "# RAG - OCI Search Service with OpenSearch\n",
    "chat_request_headers = {\n",
    "    'Authorization': f'Bearer {access_token}',\n",
    "    'Content-type': 'application/json'\n",
    "}\n",
    "chat_request_details = {\n",
    "    'agentId': AGENT_ID,\n",
    "    'query': 'What is region in OCI?'\n",
    "}\n",
    "\n",
    "response = requests.post(\n",
    "    url=f'{API_ENDPOINT}/20240331/actions/chat',\n",
    "    json=chat_request_details,\n",
    "    headers=chat_request_headers,\n",
    "    verify=False\n",
    ")\n",
    "\n",
    "print(response.json())"
   ]
  },
  {
   "cell_type": "code",
   "execution_count": null,
   "metadata": {},
   "outputs": [],
   "source": [
    "chat_request_headers = {\n",
    "    'Authorization': f'Bearer {access_token}',\n",
    "    'Content-type': 'application/json'\n",
    "}\n",
    "chat_request_details = {\n",
    "    'agentId': AGENT_ID,\n",
    "    'query': 'Hi, how are you?'\n",
    "}\n",
    "\n",
    "response = requests.post(\n",
    "    url=f'{API_ENDPOINT}/20240331/actions/chat',\n",
    "    json=chat_request_details,\n",
    "    headers=chat_request_headers,\n",
    "    verify=False,\n",
    ")\n",
    "\n",
    "print(response.json())"
   ]
  },
  {
   "cell_type": "code",
   "execution_count": null,
   "metadata": {},
   "outputs": [],
   "source": [
    "chat_request_details['shouldReturnSearchDocuments'] = True\n",
    "\n",
    "response = requests.post(\n",
    "    url=f'{API_ENDPOINT}/20240331/actions/chat',\n",
    "    json=chat_request_details,\n",
    "    headers=chat_request_headers,\n",
    "    verify=False,\n",
    ")\n",
    "\n",
    "print(response.json())"
   ]
  }
 ],
 "metadata": {
  "kernelspec": {
   "display_name": ".venv",
   "language": "python",
   "name": "python3"
  },
  "language_info": {
   "codemirror_mode": {
    "name": "ipython",
    "version": 3
   },
   "file_extension": ".py",
   "mimetype": "text/x-python",
   "name": "python",
   "nbconvert_exporter": "python",
   "pygments_lexer": "ipython3",
   "version": "3.11.7"
  }
 },
 "nbformat": 4,
 "nbformat_minor": 2
}
