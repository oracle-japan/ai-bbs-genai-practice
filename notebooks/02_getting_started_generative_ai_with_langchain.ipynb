{
 "cells": [
  {
   "cell_type": "markdown",
   "metadata": {},
   "source": [
    "## Generative AI - Inference(via LangChain)"
   ]
  },
  {
   "cell_type": "code",
   "execution_count": null,
   "metadata": {},
   "outputs": [],
   "source": [
    "from os import getenv\n",
    "from dotenv import load_dotenv\n",
    "\n",
    "from langchain_community.llms.oci_generative_ai import OCIGenAI\n",
    "\n",
    "load_dotenv()\n",
    "\n",
    "COMPARTMENT_ID = getenv(\"COMPARTMENT_ID\")\n",
    "SERVICE_ENDPOINT = getenv(\"GEN_AI_INFERENCE_ENDPOINT\") # https://inference.generativeai.us-chicago-1.oci.oraclecloud.com"
   ]
  },
  {
   "cell_type": "markdown",
   "metadata": {},
   "source": [
    "### Using API Key"
   ]
  },
  {
   "cell_type": "code",
   "execution_count": null,
   "metadata": {},
   "outputs": [],
   "source": [
    "llm = OCIGenAI(\n",
    "    service_endpoint=SERVICE_ENDPOINT,\n",
    "    compartment_id=COMPARTMENT_ID,\n",
    "    model_id=\"cohere.command\",\n",
    "    auth_profile=\"CHICAGO\",\n",
    "    model_kwargs={\n",
    "        'max_tokens': 100\n",
    "    }\n",
    ")\n",
    "\n",
    "response = llm.invoke(\"Tell me a joke\", temperature=0.7)\n",
    "\n",
    "print(response)"
   ]
  },
  {
   "cell_type": "code",
   "execution_count": null,
   "metadata": {},
   "outputs": [],
   "source": [
    "llm = OCIGenAI(\n",
    "    service_endpoint=SERVICE_ENDPOINT,\n",
    "    compartment_id=COMPARTMENT_ID,\n",
    "    model_id=\"cohere.command-light\",\n",
    "    auth_profile=\"CHICAGO\"\n",
    ")\n",
    "\n",
    "response = llm.invoke(\"Tell me a joke\", temperature=0.7)\n",
    "\n",
    "print(response)"
   ]
  },
  {
   "cell_type": "code",
   "execution_count": null,
   "metadata": {},
   "outputs": [],
   "source": [
    "llm = OCIGenAI(\n",
    "    service_endpoint=SERVICE_ENDPOINT,\n",
    "    compartment_id=COMPARTMENT_ID,\n",
    "    model_id=\"meta.llama-2-70b-chat\",\n",
    "    auth_profile=\"CHICAGO\"\n",
    ")\n",
    "\n",
    "response = llm.invoke(\"Tell me a joke\", temperature=0.7)\n",
    "\n",
    "print(response)"
   ]
  },
  {
   "cell_type": "markdown",
   "metadata": {},
   "source": [
    "### Using Instance Principal"
   ]
  },
  {
   "cell_type": "code",
   "execution_count": null,
   "metadata": {},
   "outputs": [],
   "source": [
    "llm = OCIGenAI(\n",
    "    service_endpoint=SERVICE_ENDPOINT,\n",
    "    compartment_id=COMPARTMENT_ID,\n",
    "    model_id=\"cohere.command\",\n",
    "    # ... omit ...\n",
    "    auth_type=\"INSTANCE_PRINCIPAL\"\n",
    ")\n",
    "\n",
    "response = llm.invoke(\"Tell me a joke\", temperature=0.7)\n",
    "print(response)"
   ]
  },
  {
   "cell_type": "markdown",
   "metadata": {},
   "source": [
    "### Using Session Token"
   ]
  },
  {
   "cell_type": "code",
   "execution_count": null,
   "metadata": {},
   "outputs": [],
   "source": [
    "llm = OCIGenAI(\n",
    "    service_endpoint=SERVICE_ENDPOINT,\n",
    "    compartment_id=COMPARTMENT_ID,\n",
    "    model_id=\"cohere.command\",\n",
    "    auth_type=\"SECURITY_TOKEN\",\n",
    "    auth_profile=\"langchain\"\n",
    ")\n",
    "\n",
    "response = llm.invoke(\"Tell me a joke\", temperature=0.7)\n",
    "print(response)"
   ]
  },
  {
   "cell_type": "markdown",
   "metadata": {},
   "source": [
    "## Generative AI - Embeddings"
   ]
  },
  {
   "cell_type": "code",
   "execution_count": null,
   "metadata": {},
   "outputs": [],
   "source": [
    "from langchain_community.embeddings.oci_generative_ai import OCIGenAIEmbeddings"
   ]
  },
  {
   "cell_type": "code",
   "execution_count": null,
   "metadata": {},
   "outputs": [],
   "source": [
    "embeddings = OCIGenAIEmbeddings(\n",
    "    model_id=\"cohere.embed-english-v3.0\",\n",
    "    service_endpoint=SERVICE_ENDPOINT,\n",
    "    compartment_id=COMPARTMENT_ID\n",
    ")\n",
    "\n",
    "response = embeddings.embed_query(text=\"This is a query in English.\")\n",
    "print(response)"
   ]
  },
  {
   "cell_type": "code",
   "execution_count": null,
   "metadata": {},
   "outputs": [],
   "source": [
    "response = embeddings.embed_documents(\n",
    "    texts=[\n",
    "        \"This is a first document in English\",\n",
    "        \"This is a second document in English\"\n",
    "    ]\n",
    ")\n",
    "\n",
    "print(response)"
   ]
  },
  {
   "cell_type": "markdown",
   "metadata": {},
   "source": [
    "## Prompt Template"
   ]
  },
  {
   "cell_type": "code",
   "execution_count": null,
   "metadata": {},
   "outputs": [],
   "source": [
    "from langchain.chains import LLMChain\n",
    "from langchain_core.prompts import PromptTemplate\n",
    "\n",
    "llm_cohere = OCIGenAI(\n",
    "    auth_type=\"INSTANCE_PRINCIPAL\",\n",
    "    service_endpoint=SERVICE_ENDPOINT,\n",
    "    compartment_id=COMPARTMENT_ID,\n",
    "    model_id=\"cohere.command\"\n",
    ")\n",
    "\n",
    "prompt = PromptTemplate(input_variables=[\"query\"], template=\"{query}\")\n",
    "llm_chain = LLMChain(llm=llm_cohere, prompt=prompt)\n",
    "\n",
    "response = llm_chain.invoke(\"what is the capital of france?\")\n",
    "\n",
    "response"
   ]
  },
  {
   "cell_type": "markdown",
   "metadata": {},
   "source": [
    "## Simple RAG"
   ]
  },
  {
   "cell_type": "code",
   "execution_count": null,
   "metadata": {},
   "outputs": [],
   "source": [
    "!pip install faiss-cpu"
   ]
  },
  {
   "cell_type": "code",
   "execution_count": null,
   "metadata": {},
   "outputs": [],
   "source": [
    "from langchain.schema.output_parser import StrOutputParser\n",
    "from langchain.schema.runnable import RunnablePassthrough\n",
    "from langchain_community.embeddings import OCIGenAIEmbeddings\n",
    "from langchain_community.vectorstores.faiss import FAISS"
   ]
  },
  {
   "cell_type": "code",
   "execution_count": null,
   "metadata": {},
   "outputs": [],
   "source": [
    "embeddings = OCIGenAIEmbeddings(\n",
    "    auth_type=\"INSTANCE_PRINCIPAL\",\n",
    "    service_endpoint=SERVICE_ENDPOINT,\n",
    "    model_id=\"cohere.embed-english-v3.0\",\n",
    "    compartment_id=COMPARTMENT_ID\n",
    ")\n",
    "\n",
    "vectorstore = FAISS.from_texts(\n",
    "    [\n",
    "        \"Larry Ellison co-founded Oracle Corporation in 1977 with Bob Miner and Ed Oates.\",\n",
    "        \"Oracle Corporation is an American multinational computer technology company headquartered in Austin, Texas, United States.\",\n",
    "    ],\n",
    "    embedding=embeddings\n",
    ")\n",
    "\n",
    "retriever = vectorstore.as_retriever()\n",
    "\n",
    "template = \"\"\"Answer the question based only on the following context:\n",
    "{context}\n",
    "\n",
    "Question: {question}\n",
    "\"\"\"\n",
    "\n",
    "prompt = PromptTemplate.from_template(template=template)\n",
    "llm_cohere = OCIGenAI(\n",
    "    auth_type=\"INSTANCE_PRINCIPAL\",\n",
    "    service_endpoint=SERVICE_ENDPOINT,\n",
    "    model_id=\"cohere.command\",\n",
    "    compartment_id=COMPARTMENT_ID\n",
    ")\n",
    "\n",
    "chain = (\n",
    "    { \"context\": retriever, \"question\": RunnablePassthrough()}\n",
    "    | prompt\n",
    "    | llm_cohere\n",
    "    | StrOutputParser()\n",
    ")\n",
    "\n",
    "print(chain.invoke(\"when was oracle founded?\"))\n",
    "print(chain.invoke(\"where is oracle headquartered?\"))"
   ]
  }
 ],
 "metadata": {
  "kernelspec": {
   "display_name": ".venv",
   "language": "python",
   "name": "python3"
  },
  "language_info": {
   "codemirror_mode": {
    "name": "ipython",
    "version": 3
   },
   "file_extension": ".py",
   "mimetype": "text/x-python",
   "name": "python",
   "nbconvert_exporter": "python",
   "pygments_lexer": "ipython3",
   "version": "3.11.7"
  }
 },
 "nbformat": 4,
 "nbformat_minor": 2
}
