{
 "cells": [
  {
   "cell_type": "markdown",
   "metadata": {},
   "source": [
    "## Setup"
   ]
  },
  {
   "cell_type": "code",
   "execution_count": null,
   "metadata": {},
   "outputs": [],
   "source": [
    "!pip install -U oci"
   ]
  },
  {
   "cell_type": "markdown",
   "metadata": {},
   "source": [
    "## Generative AI - Inference(via LangChain)"
   ]
  },
  {
   "cell_type": "code",
   "execution_count": null,
   "metadata": {},
   "outputs": [],
   "source": [
    "from os import getenv\n",
    "from dotenv import load_dotenv\n",
    "\n",
    "from langchain_community.llms.oci_generative_ai import OCIGenAI\n",
    "\n",
    "load_dotenv()\n",
    "\n",
    "COMPARTMENT_ID = getenv(\"COMPARTMENT_ID\")\n",
    "SERVICE_ENDPOINT = getenv(\"GEN_AI_INFERENCE_ENDPOINT\")"
   ]
  },
  {
   "cell_type": "markdown",
   "metadata": {},
   "source": [
    "### Using API Key"
   ]
  },
  {
   "cell_type": "code",
   "execution_count": null,
   "metadata": {},
   "outputs": [],
   "source": [
    "llm_cohere_command = OCIGenAI(\n",
    "    auth_profile=\"LONDON\",\n",
    "    service_endpoint=SERVICE_ENDPOINT,\n",
    "    compartment_id=COMPARTMENT_ID,\n",
    "    model_id=\"cohere.command\"\n",
    ")\n",
    "\n",
    "response = llm_cohere_command.invoke(\"Tell me a joke\", temperature=0.7)\n",
    "\n",
    "response"
   ]
  },
  {
   "cell_type": "code",
   "execution_count": null,
   "metadata": {},
   "outputs": [],
   "source": [
    "llm_cohere_command_light = OCIGenAI(\n",
    "    auth_profile=\"LONDON\",\n",
    "    service_endpoint=SERVICE_ENDPOINT,\n",
    "    compartment_id=COMPARTMENT_ID,\n",
    "    model_id=\"cohere.command-light\"\n",
    ")\n",
    "\n",
    "response = llm_cohere_command_light.invoke(\"Tell me a joke\", temperature=0.7)\n",
    "\n",
    "response"
   ]
  },
  {
   "cell_type": "code",
   "execution_count": null,
   "metadata": {},
   "outputs": [],
   "source": [
    "llm_meta = OCIGenAI(\n",
    "    auth_profile=\"LONDON\",\n",
    "    service_endpoint=SERVICE_ENDPOINT,\n",
    "    compartment_id=COMPARTMENT_ID,\n",
    "    model_id=\"meta.llama-2-70b-chat\"\n",
    ")\n",
    "\n",
    "llm_meta.invoke(\"Tell me a joke\")"
   ]
  },
  {
   "cell_type": "markdown",
   "metadata": {},
   "source": [
    "### Using Instance Principal"
   ]
  },
  {
   "cell_type": "code",
   "execution_count": null,
   "metadata": {},
   "outputs": [],
   "source": [
    "llm_cohere = OCIGenAI(\n",
    "    auth_type=\"INSTANCE_PRINCIPAL\",\n",
    "    service_endpoint=SERVICE_ENDPOINT,\n",
    "    compartment_id=COMPARTMENT_ID,\n",
    "    model_id=\"cohere.command\",\n",
    "    model_kwargs={\n",
    "        \"temperature\": 0.7\n",
    "    }\n",
    ")\n",
    "\n",
    "llm_cohere.invoke(\"Tell me a joke\")"
   ]
  },
  {
   "cell_type": "markdown",
   "metadata": {},
   "source": [
    "## Prompt Template"
   ]
  },
  {
   "cell_type": "code",
   "execution_count": null,
   "metadata": {},
   "outputs": [],
   "source": [
    "from langchain.chains import LLMChain\n",
    "from langchain_core.prompts import PromptTemplate\n",
    "\n",
    "llm_cohere = OCIGenAI(\n",
    "    auth_type=\"INSTANCE_PRINCIPAL\",\n",
    "    service_endpoint=SERVICE_ENDPOINT,\n",
    "    compartment_id=COMPARTMENT_ID,\n",
    "    model_id=\"cohere.command\"\n",
    ")\n",
    "\n",
    "prompt = PromptTemplate(input_variables=[\"query\"], template=\"{query}\")\n",
    "llm_chain = LLMChain(llm=llm_cohere, prompt=prompt)\n",
    "\n",
    "response = llm_chain.invoke(\"what is the capital of france?\")\n",
    "\n",
    "response"
   ]
  },
  {
   "cell_type": "markdown",
   "metadata": {},
   "source": [
    "## Simple RAG"
   ]
  },
  {
   "cell_type": "code",
   "execution_count": null,
   "metadata": {},
   "outputs": [],
   "source": [
    "!pip install faiss-cpu"
   ]
  },
  {
   "cell_type": "code",
   "execution_count": null,
   "metadata": {},
   "outputs": [],
   "source": [
    "from langchain.schema.output_parser import StrOutputParser\n",
    "from langchain.schema.runnable import RunnablePassthrough\n",
    "from langchain_community.embeddings import OCIGenAIEmbeddings\n",
    "from langchain_community.vectorstores.faiss import FAISS"
   ]
  },
  {
   "cell_type": "code",
   "execution_count": null,
   "metadata": {},
   "outputs": [],
   "source": [
    "embeddings = OCIGenAIEmbeddings(\n",
    "    auth_type=\"INSTANCE_PRINCIPAL\",\n",
    "    service_endpoint=SERVICE_ENDPOINT,\n",
    "    model_id=\"cohere.embed-english-v3.0\",\n",
    "    compartment_id=COMPARTMENT_ID\n",
    ")\n",
    "\n",
    "vectorstore = FAISS.from_texts(\n",
    "    [\n",
    "        \"Larry Ellison co-founded Oracle Corporation in 1977 with Bob Miner and Ed Oates.\",\n",
    "        \"Oracle Corporation is an American multinational computer technology company headquartered in Austin, Texas, United States.\",\n",
    "    ],\n",
    "    embedding=embeddings\n",
    ")\n",
    "\n",
    "retriever = vectorstore.as_retriever()\n",
    "\n",
    "template = \"\"\"Answer the question based only on the following context:\n",
    "{context}\n",
    "\n",
    "Question: {question}\n",
    "\"\"\"\n",
    "\n",
    "prompt = PromptTemplate.from_template(template=template)\n",
    "llm_cohere = OCIGenAI(\n",
    "    auth_type=\"INSTANCE_PRINCIPAL\",\n",
    "    service_endpoint=SERVICE_ENDPOINT,\n",
    "    model_id=\"cohere.command\",\n",
    "    compartment_id=COMPARTMENT_ID\n",
    ")\n",
    "\n",
    "chain = (\n",
    "    { \"context\": retriever, \"question\": RunnablePassthrough()}\n",
    "    | prompt\n",
    "    | llm_cohere\n",
    "    | StrOutputParser()\n",
    ")\n",
    "\n",
    "print(chain.invoke(\"when was oracle founded?\"))\n",
    "print(chain.invoke(\"where is oracle headquartered?\"))"
   ]
  }
 ],
 "metadata": {
  "kernelspec": {
   "display_name": ".venv",
   "language": "python",
   "name": "python3"
  },
  "language_info": {
   "codemirror_mode": {
    "name": "ipython",
    "version": 3
   },
   "file_extension": ".py",
   "mimetype": "text/x-python",
   "name": "python",
   "nbconvert_exporter": "python",
   "pygments_lexer": "ipython3",
   "version": "3.11.7"
  }
 },
 "nbformat": 4,
 "nbformat_minor": 2
}
